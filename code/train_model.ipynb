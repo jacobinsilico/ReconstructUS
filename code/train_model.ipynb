{
 "cells": [
  {
   "cell_type": "markdown",
   "id": "caa07563",
   "metadata": {},
   "source": [
    "# U-Net Training for Ultrasound Image Reconstruction\n",
    "This notebook sets up the baseline training pipeline for U-Net using ultrasound data.  "
   ]
  },
  {
   "cell_type": "code",
   "execution_count": null,
   "id": "012cc046",
   "metadata": {},
   "outputs": [],
   "source": [
    "import os\n",
    "import numpy as np\n",
    "import matplotlib.pyplot as plt\n",
    "\n",
    "\n",
    "from model_library import UNet  \n",
    "\n",
    "# pytorch modules\n",
    "import torch\n",
    "import torch.nn as nn\n",
    "from torch.utils.data import DataLoader, Dataset\n",
    "from tqdm import tqdm\n",
    "import torchvision.transforms as T\n",
    "import torch.nn.functional as F\n",
    "\n",
    "from sklearn.model_selection import train_test_split\n",
    "\n",
    "# for dataset preprocessing\n",
    "from glob import glob\n",
    "import scipy.io as sio\n",
    "from PIL import Image\n",
    "\n",
    "# evaluation metrics for reconstructed images\n",
    "from skimage.metrics import peak_signal_noise_ratio as psnr\n",
    "from skimage.metrics import structural_similarity as ssim\n",
    "from piq import SSIMLoss # loss function\n"
   ]
  },
  {
   "cell_type": "markdown",
   "id": "20165ee3",
   "metadata": {},
   "source": [
    "## Configuration\n",
    "Define all the training parameters in one variable."
   ]
  },
  {
   "cell_type": "code",
   "execution_count": null,
   "id": "6c1c5a99",
   "metadata": {},
   "outputs": [],
   "source": [
    "CONFIG = {\n",
    "    'model_name': 'unet',\n",
    "    'batch_size': 4,\n",
    "    'lr': 1e-3,\n",
    "    'epochs': 150,\n",
    "    'input_size': (75, 128, 128), # TODO: change this when the dataset becomes available\n",
    "    'device': 'cuda' if torch.cuda.is_available() else 'cpu',\n",
    "    'data_dir_rf':  os.path.join('..', 'data', 'raw'),\n",
    "    'data_dir_img': os.path.join('..', 'data', 'processed'),\n",
    "    'checkpoint_dir': './checkpoints/unet/',\n",
    "}"
   ]
  },
  {
   "cell_type": "markdown",
   "id": "a82bd820",
   "metadata": {},
   "source": [
    "## Data Loading\n",
    "THIS NEEDS REPLACING! We assume .mat or .npy for input and .npy or .png for output."
   ]
  },
  {
   "cell_type": "code",
   "execution_count": null,
   "id": "9fa3e392",
   "metadata": {},
   "outputs": [],
   "source": [
    "# we first define a dataset class that will take care of data handling DONE\n",
    "class UltrasoundDataset(torch.utils.data.Dataset):\n",
    "    def __init__(self, rf_paths, img_paths, target_shape=(75, 128, 128)):\n",
    "        self.rf_paths      =  rf_paths          # paths to RF data files\n",
    "        self.img_paths     =  img_paths         # paths to img files\n",
    "        self.target_shape  =  target_shape      # target shape we assume each RF file to have\n",
    "\n",
    "    def __len__(self):\n",
    "        return len(self.rf_paths)   # assume 1-to-1 correspondence between RF and images\n",
    "\n",
    "    def __getitem__(self, idx):\n",
    "        # load the RF and img data from .mat files\n",
    "        rf   =  sio.loadmat(self.rf_paths[idx])['rf_raw']\n",
    "        img  =  sio.loadmat(self.img_paths[idx])['img']\n",
    "        \n",
    "        # turn the RF and img data into tensorts\n",
    "        rf   =  torch.tensor(rf, dtype=torch.float32)                 # [C, H, W] -> [plane wave, depth, transducer array elements]\n",
    "        img  =  torch.tensor(img, dtype=torch.float32).unsqueeze(0)   # [1, H, W] -> [1, height, width] greyscale image\n",
    "\n",
    "        # resize both to target shape \n",
    "        rf   =  self.resize_tensor(rf, self.target_shape)\n",
    "        img  =  self.resize_tensor(img, (1, self.target_shape[1], self.target_shape[2]))\n",
    "\n",
    "        # normalize the image to avoid problems with SSIM loss later on\n",
    "        img = img / 255.0\n",
    "        return rf, img\n",
    "\n",
    "    def resize_tensor(self, tensor, target_shape):\n",
    "        \"\"\"Resize input tensor to target_shape.\"\"\"\n",
    "        return F.interpolate(\n",
    "            tensor.unsqueeze(0), size=target_shape[1:], mode='bilinear', align_corners=False\n",
    "        ).squeeze(0)\n"
   ]
  },
  {
   "cell_type": "code",
   "execution_count": null,
   "id": "c1fe8363",
   "metadata": {},
   "outputs": [],
   "source": [
    "rf_dir   =  CONFIG['data_dir_rf']      # path to RF .mat files\n",
    "img_dir  =  CONFIG['data_dir_img']     # path to image .mat files\n",
    "\n",
    "rf_paths   =  sorted(glob(os.path.join(rf_dir, 'rf_*.mat')))\n",
    "img_paths  =  sorted(glob(os.path.join(img_dir, 'img_*.mat')))\n",
    "\n",
    "assert len(rf_paths) == len(img_paths), \"Mismatch between RF and image files!\" # make sure we have matching number of RF data and reconstructed images"
   ]
  },
  {
   "cell_type": "code",
   "execution_count": null,
   "id": "422034fd",
   "metadata": {},
   "outputs": [],
   "source": [
    "# we do train test split of training data to perform validation on simulated data\n",
    "rf_train, rf_val, img_train, img_val = train_test_split(rf_paths, img_paths, test_size=0.2, random_state=42)"
   ]
  },
  {
   "cell_type": "code",
   "execution_count": null,
   "id": "f6569f89",
   "metadata": {},
   "outputs": [],
   "source": [
    "target_shape = (75, 128, 128)  # TODO: change this so that it matches CONFIG when dataset is known\n",
    "\n",
    "train_dataset = UltrasoundDataset(rf_train, img_train, target_shape=target_shape)\n",
    "val_dataset   = UltrasoundDataset(rf_val, img_val, target_shape=target_shape)"
   ]
  },
  {
   "cell_type": "code",
   "execution_count": null,
   "id": "0ebc0611",
   "metadata": {},
   "outputs": [],
   "source": [
    "# we create two dataloaders, we set num_workers=0 to avoid spawn issues\n",
    "train_loader = DataLoader(\n",
    "    train_dataset, \n",
    "    batch_size=CONFIG['batch_size'], \n",
    "    shuffle=True, \n",
    "    num_workers=0, \n",
    "    pin_memory=True\n",
    ")\n",
    "\n",
    "val_loader = DataLoader(\n",
    "    val_dataset, \n",
    "    batch_size=CONFIG['batch_size'], \n",
    "    shuffle=False, \n",
    "    num_workers=0, \n",
    "    pin_memory=True\n",
    ")"
   ]
  },
  {
   "cell_type": "code",
   "execution_count": null,
   "id": "ff9be8c9",
   "metadata": {},
   "outputs": [],
   "source": [
    "# sanity check\n",
    "for rf_batch, img_batch in train_loader:\n",
    "    print(f\"RF shape: {rf_batch.shape}\")   # Should be [B, 75, 128, 128]\n",
    "    print(f\"IMG shape: {img_batch.shape}\") # Should be [B, 1, 128, 128]\n",
    "    break"
   ]
  },
  {
   "cell_type": "markdown",
   "id": "00123e33",
   "metadata": {},
   "source": [
    "## Model Architecture\n",
    "Here we define the model architecture used for training."
   ]
  },
  {
   "cell_type": "code",
   "execution_count": null,
   "id": "1aad477b",
   "metadata": {},
   "outputs": [],
   "source": [
    "# the idea is that we use all plane waves as input (for example 75) and then predict 1 image based on that\n",
    "# TODO: change input channels when the dataset is known\n",
    "model = UNet(in_channels=75, out_channels=1).to(CONFIG['device'])"
   ]
  },
  {
   "cell_type": "code",
   "execution_count": null,
   "id": "bfd3aa50",
   "metadata": {},
   "outputs": [],
   "source": [
    "ssim_loss_fn = SSIMLoss(data_range=1.0)  # assuming your images are normalized to [0, 1]\n",
    "# TODO: consider combining SSIMLoss with MAE\n",
    "optimizer = torch.optim.Adam(model.parameters(), lr=CONFIG['lr'])\n",
    "scheduler = torch.optim.lr_scheduler.StepLR(optimizer, step_size=10, gamma=0.5)"
   ]
  },
  {
   "cell_type": "code",
   "execution_count": null,
   "id": "19db9be0",
   "metadata": {},
   "outputs": [],
   "source": [
    "def combined_loss(pred, target, alpha=0.84):\n",
    "    ssim = ssim_loss_fn(pred, target)\n",
    "    l1 = torch.nn.functional.l1_loss(pred, target)\n",
    "    return alpha * ssim + (1 - alpha) * l1"
   ]
  },
  {
   "cell_type": "code",
   "execution_count": null,
   "id": "91bfec6d",
   "metadata": {},
   "outputs": [],
   "source": [
    "def train_one_epoch(model, loader, optimizer):\n",
    "    model.train()\n",
    "    epoch_loss = 0\n",
    "    for x, y in tqdm(loader):\n",
    "        x, y = x.to(CONFIG['device']), y.to(CONFIG['device'])\n",
    "        optimizer.zero_grad()\n",
    "        y_pred = model(x)\n",
    "        loss = combined_loss(y_pred, y)  # use your custom function\n",
    "        loss.backward()\n",
    "        optimizer.step()\n",
    "        epoch_loss += loss.item()\n",
    "    return epoch_loss / len(loader)\n"
   ]
  },
  {
   "cell_type": "code",
   "execution_count": null,
   "id": "0ee36422",
   "metadata": {},
   "outputs": [],
   "source": [
    "def compute_metrics(y_true, y_pred):\n",
    "    \"\"\"\n",
    "    Computes PSNR and SSIM between two numpy arrays.\n",
    "    \n",
    "    Args:\n",
    "        y_true (np.ndarray): Ground truth image, shape (H, W) or (1, H, W)\n",
    "        y_pred (np.ndarray): Predicted image, shape (H, W) or (1, H, W)\n",
    "    \n",
    "    Returns:\n",
    "        tuple: (PSNR, SSIM) float values\n",
    "    \"\"\"\n",
    "    # Squeeze unnecessary singleton dimensions (e.g., channel)\n",
    "    y_true = np.squeeze(y_true)\n",
    "    y_pred = np.squeeze(y_pred)\n",
    "\n",
    "    assert y_true.shape == y_pred.shape, f\"Shape mismatch: {y_true.shape} vs {y_pred.shape}\"\n",
    "    assert y_true.ndim == 2, f\"Expected 2D arrays after squeeze, got {y_true.ndim}D\"\n",
    "\n",
    "    psnr_val = psnr(y_true, y_pred, data_range=1.0)\n",
    "    ssim_val = ssim(y_true, y_pred, data_range=1.0)\n",
    "\n",
    "    return psnr_val, ssim_val"
   ]
  },
  {
   "cell_type": "code",
   "execution_count": null,
   "id": "cfe6b592",
   "metadata": {},
   "outputs": [],
   "source": [
    "def validate(model, loader):\n",
    "    model.eval()\n",
    "    val_loss = 0\n",
    "    total_psnr, total_ssim = 0.0, 0.0\n",
    "\n",
    "    with torch.no_grad():\n",
    "        for x, y in loader:\n",
    "            x, y = x.to(CONFIG['device']), y.to(CONFIG['device'])\n",
    "            y_pred = model(x)\n",
    "            loss = combined_loss(y_pred, y)\n",
    "            val_loss += loss.item()\n",
    "\n",
    "            # Detach and move to CPU\n",
    "            preds = y_pred.detach().cpu().numpy()\n",
    "            targets = y.detach().cpu().numpy()\n",
    "\n",
    "            # Compute metrics per sample\n",
    "            for i in range(preds.shape[0]):\n",
    "                pred_i = preds[i, 0]  # remove channel dim: [1, H, W] → [H, W]\n",
    "                target_i = targets[i, 0]\n",
    "\n",
    "                psnr, ssim = compute_metrics(target_i, pred_i)\n",
    "                total_psnr += psnr\n",
    "                total_ssim += ssim\n",
    "\n",
    "    n = len(loader.dataset)\n",
    "    return (\n",
    "        val_loss / len(loader),\n",
    "        total_psnr / n,\n",
    "        total_ssim / n\n",
    "    )\n"
   ]
  },
  {
   "cell_type": "markdown",
   "id": "64d3e639",
   "metadata": {},
   "source": [
    "## Model Training\n",
    "In this part we set up the training loop, train the model and then save the parameters of the final one."
   ]
  },
  {
   "cell_type": "code",
   "execution_count": null,
   "id": "b2ba0ab7",
   "metadata": {},
   "outputs": [],
   "source": [
    "# Make sure checkpoint directory exists\n",
    "os.makedirs(CONFIG['checkpoint_dir'], exist_ok=True)\n",
    "\n",
    "for epoch in tqdm(range(CONFIG['epochs'])):\n",
    "    train_loss = train_one_epoch(model, train_loader, optimizer)\n",
    "    val_loss, val_psnr, val_ssim = validate(model, val_loader)\n",
    "    scheduler.step()\n",
    "\n",
    "    print(f\"Epoch {epoch+1}/{CONFIG['epochs']} | \"\n",
    "          f\"Train Loss: {train_loss:.4f} | Val Loss: {val_loss:.4f} | \"\n",
    "          f\"PSNR: {val_psnr:.2f} | SSIM: {val_ssim:.4f}\")\n",
    "\n",
    "    # Save checkpoint every 50 epochs\n",
    "    if (epoch + 1) % 50 == 0 or (epoch + 1) == CONFIG['epochs']:\n",
    "        ckpt_path = os.path.join(CONFIG['checkpoint_dir'], f\"{CONFIG['model_name']}_epoch_{epoch+1}.pt\")\n",
    "        torch.save({\n",
    "            'epoch': epoch + 1,\n",
    "            'model_state_dict': model.state_dict(),\n",
    "            'optimizer_state_dict': optimizer.state_dict(),\n",
    "            'scheduler_state_dict': scheduler.state_dict(),\n",
    "            'train_loss': train_loss,\n",
    "            'val_loss': val_loss,\n",
    "            'psnr': val_psnr,\n",
    "            'ssim': val_ssim,\n",
    "        }, ckpt_path)\n",
    "        print(f\"✅ Saved checkpoint: {ckpt_path}\")"
   ]
  },
  {
   "cell_type": "code",
   "execution_count": null,
   "id": "4bc9a43a",
   "metadata": {},
   "outputs": [],
   "source": [
    "final_model_path = os.path.join(CONFIG['checkpoint_dir'], 'final_model.pt')\n",
    "torch.save({\n",
    "    'model_state_dict': model.state_dict(),\n",
    "    'optimizer_state_dict': optimizer.state_dict(),\n",
    "    'scheduler_state_dict': scheduler.state_dict(),\n",
    "    'epoch': CONFIG['epochs'],\n",
    "}, final_model_path)\n"
   ]
  },
  {
   "cell_type": "markdown",
   "id": "5350cf62",
   "metadata": {},
   "source": [
    "## Model Visualization\n",
    "We visualize one example of the reconstructed images."
   ]
  },
  {
   "cell_type": "code",
   "execution_count": null,
   "id": "f7c93d9a",
   "metadata": {},
   "outputs": [],
   "source": [
    "def show_example(model, loader):\n",
    "    model.eval()\n",
    "    x, y = next(iter(loader))\n",
    "    x = x.to(CONFIG['device'])\n",
    "    with torch.no_grad():\n",
    "        y_pred = model(x).cpu()\n",
    "\n",
    "    fig, axs = plt.subplots(1, 3, figsize=(12, 4))\n",
    "    axs[0].imshow(x[0, 0].cpu(), cmap='gray')\n",
    "    axs[0].set_title(\"Input\")\n",
    "    axs[1].imshow(y[0, 0], cmap='gray')\n",
    "    axs[1].set_title(\"Target\")\n",
    "    axs[2].imshow(y_pred[0, 0], cmap='gray')\n",
    "    axs[2].set_title(\"Prediction\")\n",
    "    plt.show()\n"
   ]
  }
 ],
 "metadata": {
  "kernelspec": {
   "display_name": "base",
   "language": "python",
   "name": "python3"
  },
  "language_info": {
   "codemirror_mode": {
    "name": "ipython",
    "version": 3
   },
   "file_extension": ".py",
   "mimetype": "text/x-python",
   "name": "python",
   "nbconvert_exporter": "python",
   "pygments_lexer": "ipython3",
   "version": "3.12.4"
  }
 },
 "nbformat": 4,
 "nbformat_minor": 5
}
