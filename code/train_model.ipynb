{
 "cells": [
  {
   "cell_type": "markdown",
   "id": "caa07563",
   "metadata": {},
   "source": [
    "# Model Training for Ultrasound Image Reconstruction\n",
    "This notebook sets up the baseline training pipeline for U-Net using ultrasound data.  "
   ]
  },
  {
   "cell_type": "code",
   "execution_count": null,
   "id": "012cc046",
   "metadata": {},
   "outputs": [],
   "source": [
    "import os       # file access\n",
    "import matplotlib.pyplot as plt     # plotting of the results (possibly later)\n",
    "\n",
    "import torch\n",
    "from torch.utils.data import DataLoader\n",
    "from tqdm import tqdm   # for epoch iteration\n",
    "from glob import glob   # for dataset preprocessing\n",
    "from sklearn.model_selection import train_test_split # to perform validation on simulation data\n",
    "\n",
    "############################################################################################################################\n",
    "# user defined models\n",
    "from models.resnet import CustomResNet      # custom resnet architecture - CNN baseline\n",
    "from models.unet   import CustomUNet        # custom unet architecture - better CNN baseline\n",
    "from models.effunet import EfficientUNetBeamformer  # efficientnet encoder + unet decoder - final model\n",
    "\n",
    "# user defined scripts\n",
    "from dataloader.dataset import UltrasoundDataset                # custom class to handle ultrasound RF and image data\n",
    "from utils.losses import ssim_loss, mae_loss, combined_loss     # loss functions possibly interesting for US data\n",
    "from utils.metrics import compute_metrics                       # function to compute SSIM and PSNR for comparisons later\n"
   ]
  },
  {
   "cell_type": "markdown",
   "id": "20165ee3",
   "metadata": {},
   "source": [
    "## Configuration\n",
    "Define all the training parameters in one variable."
   ]
  },
  {
   "cell_type": "code",
   "execution_count": null,
   "id": "6c1c5a99",
   "metadata": {},
   "outputs": [],
   "source": [
    "# TODO: Finish the config when the dataset becomes available\n",
    "# make sure to configure model and loss function before each run\n",
    "CONFIG = {\n",
    "    'model_name': 'resnet',  # options: 'resnet', 'unet', 'effunet'\n",
    "    'loss_function': 'ssim', # options: 'ssim', 'mae', 'combined'\n",
    "    'batch_size': 4,\n",
    "    'lr': 1e-3,\n",
    "    'epochs': 150,\n",
    "    'input_size': (75, 128, 128),  # [channels, height, width] \n",
    "    'device': 'cuda' if torch.cuda.is_available() else 'cpu',\n",
    "    'data_dir_rf': os.path.join('..', 'data', 'raw'),\n",
    "    'data_dir_img': os.path.join('..', 'data', 'processed'),\n",
    "    \n",
    "    # set below depending on the model name\n",
    "    'checkpoint_dir': None,\n",
    "}\n",
    "CONFIG['checkpoint_dir'] = f\"./checkpoints/{CONFIG['model_name']}/\""
   ]
  },
  {
   "cell_type": "markdown",
   "id": "a82bd820",
   "metadata": {},
   "source": [
    "## Data Loading\n",
    "We assume .mat for input RF data and .mat for the reconstructed image files."
   ]
  },
  {
   "cell_type": "code",
   "execution_count": null,
   "id": "c1fe8363",
   "metadata": {},
   "outputs": [],
   "source": [
    "# we create the paths to both RF and image data\n",
    "rf_dir   =  CONFIG['data_dir_rf']      # path to RF .mat files\n",
    "img_dir  =  CONFIG['data_dir_img']     # path to image .mat files\n",
    "\n",
    "# after this step we have sorted lists\n",
    "rf_paths   =  sorted(glob(os.path.join(rf_dir, 'rf_*.mat')))\n",
    "img_paths  =  sorted(glob(os.path.join(img_dir, 'img_*.mat')))\n",
    "\n",
    "assert len(rf_paths) == len(img_paths), \"Mismatch between RF and image files!\" # make sure we have matching number of RF data and reconstructed images"
   ]
  },
  {
   "cell_type": "code",
   "execution_count": null,
   "id": "f6569f89",
   "metadata": {},
   "outputs": [],
   "source": [
    "# Get full list of RF and image paths\n",
    "# Example:\n",
    "# rf_paths = sorted(glob.glob(os.path.join(CONFIG['data_dir_rf'], '*.mat')))\n",
    "# img_paths = sorted(glob.glob(os.path.join(CONFIG['data_dir_img'], '*.mat')))\n",
    "\n",
    "# Split: 90% train, 10% val\n",
    "rf_train, rf_val, img_train, img_val = train_test_split(\n",
    "    rf_paths,\n",
    "    img_paths,\n",
    "    test_size=0.1,\n",
    "    random_state=42\n",
    ")\n",
    "\n",
    "# Define datasets\n",
    "target_shape = CONFIG['input_size']\n",
    "\n",
    "train_dataset = UltrasoundDataset(rf_train, img_train, target_shape=target_shape)\n",
    "val_dataset   = UltrasoundDataset(rf_val, img_val, target_shape=target_shape)\n"
   ]
  },
  {
   "cell_type": "code",
   "execution_count": null,
   "id": "0ebc0611",
   "metadata": {},
   "outputs": [],
   "source": [
    "# we create a dataloader, we set num_workers=0 to avoid spawn issues\n",
    "train_loader = DataLoader(\n",
    "    train_dataset, \n",
    "    batch_size=CONFIG['batch_size'], \n",
    "    shuffle=True, \n",
    "    num_workers=0, \n",
    "    pin_memory=True\n",
    ")\n",
    "\n",
    "val_loader = DataLoader(\n",
    "    val_dataset,\n",
    "    batch_size=CONFIG['batch_size'],\n",
    "    shuffle=True,\n",
    "    num_workers=0,\n",
    "    pin_memory=True # we allocate dataloader batch tensors to page-locked memory - efficiency trick\n",
    ")"
   ]
  },
  {
   "cell_type": "code",
   "execution_count": null,
   "id": "ff9be8c9",
   "metadata": {},
   "outputs": [],
   "source": [
    "# sanity check\n",
    "for rf_batch, img_batch in train_loader:\n",
    "    print(f\"RF shape: {rf_batch.shape}\")   # Should be [B, 75, 128, 128]\n",
    "    print(f\"IMG shape: {img_batch.shape}\") # Should be [B, 1, 128, 128]\n",
    "    break"
   ]
  },
  {
   "cell_type": "markdown",
   "id": "00123e33",
   "metadata": {},
   "source": [
    "## Model Architecture\n",
    "Here we define the model architecture used for training."
   ]
  },
  {
   "cell_type": "code",
   "execution_count": null,
   "id": "1aad477b",
   "metadata": {},
   "outputs": [],
   "source": [
    "# the idea is that we use all plane waves as input (for example 75) and then predict 1 image based on that\n",
    "# TODO: change input channels when the dataset is known\n",
    "if CONFIG['model_name'] == 'resnet':\n",
    "    model = CustomResNet()\n",
    "elif CONFIG['model_name'] == 'unet':\n",
    "    model = CustomUNet()\n",
    "elif CONFIG['model_name'] == 'effunet':\n",
    "    model = EfficientUNetBeamformer()"
   ]
  },
  {
   "cell_type": "code",
   "execution_count": null,
   "id": "bfd3aa50",
   "metadata": {},
   "outputs": [],
   "source": [
    "# we define standard optimizer and scheduler, loss is defined later based on user CONFIG\n",
    "optimizer = torch.optim.Adam(model.parameters(), lr=CONFIG['lr'])\n",
    "scheduler = torch.optim.lr_scheduler.StepLR(optimizer, step_size=10, gamma=0.5)"
   ]
  },
  {
   "cell_type": "code",
   "execution_count": null,
   "id": "91bfec6d",
   "metadata": {},
   "outputs": [],
   "source": [
    "def train_one_epoch(model, loader, optimizer):\n",
    "    model.train()\n",
    "    epoch_loss = 0\n",
    "    for x, y in tqdm(loader):\n",
    "        x, y = x.to(CONFIG['device']), y.to(CONFIG['device'])\n",
    "        optimizer.zero_grad()\n",
    "        y_pred = model(x)\n",
    "\n",
    "        if CONFIG['loss_function'] == 'ssim':\n",
    "            loss = ssim_loss(y_pred, y)\n",
    "        elif CONFIG['loss_function'] == 'mae':\n",
    "            loss = mae_loss(y_pred, y)\n",
    "        elif CONFIG['loss_function'] == 'combined':\n",
    "            loss = combined_loss(y_pred, y)\n",
    "            \n",
    "        loss.backward()\n",
    "        optimizer.step()\n",
    "        epoch_loss += loss.item()\n",
    "    return epoch_loss / len(loader)\n"
   ]
  },
  {
   "cell_type": "code",
   "execution_count": null,
   "id": "cfe6b592",
   "metadata": {},
   "outputs": [],
   "source": [
    "def validate(model, loader):\n",
    "    model.eval()\n",
    "    val_loss = 0\n",
    "    total_psnr, total_ssim = 0.0, 0.0\n",
    "\n",
    "    with torch.no_grad():\n",
    "        for x, y in loader:\n",
    "            x, y = x.to(CONFIG['device']), y.to(CONFIG['device'])\n",
    "            y_pred = model(x)\n",
    "            loss = combined_loss(y_pred, y)\n",
    "            val_loss += loss.item()\n",
    "\n",
    "            # Detach and move to CPU\n",
    "            preds = y_pred.detach().cpu().numpy()\n",
    "            targets = y.detach().cpu().numpy()\n",
    "\n",
    "            # Compute metrics per sample\n",
    "            for i in range(preds.shape[0]):\n",
    "                pred_i = preds[i, 0]  # remove channel dim: [1, H, W] → [H, W]\n",
    "                target_i = targets[i, 0]\n",
    "\n",
    "                psnr, ssim = compute_metrics(target_i, pred_i)\n",
    "                total_psnr += psnr\n",
    "                total_ssim += ssim\n",
    "\n",
    "    n = len(loader.dataset)\n",
    "    return (\n",
    "        val_loss / len(loader),\n",
    "        total_psnr / n,\n",
    "        total_ssim / n\n",
    "    )\n"
   ]
  },
  {
   "cell_type": "markdown",
   "id": "64d3e639",
   "metadata": {},
   "source": [
    "## Model Training\n",
    "In this part we set up the training loop, train the model and then save the parameters of the final one."
   ]
  },
  {
   "cell_type": "code",
   "execution_count": null,
   "id": "b2ba0ab7",
   "metadata": {},
   "outputs": [],
   "source": [
    "# Make sure checkpoint directory exists\n",
    "os.makedirs(CONFIG['checkpoint_dir'], exist_ok=True)\n",
    "\n",
    "for epoch in tqdm(range(CONFIG['epochs'])):\n",
    "    train_loss = train_one_epoch(model, train_loader, optimizer)\n",
    "    val_loss, val_psnr, val_ssim = validate(model, val_loader)\n",
    "    scheduler.step()\n",
    "\n",
    "    print(f\"Epoch {epoch+1}/{CONFIG['epochs']} | \"\n",
    "          f\"Train Loss: {train_loss:.4f} | Val Loss: {val_loss:.4f} | \"\n",
    "          f\"PSNR: {val_psnr:.2f} | SSIM: {val_ssim:.4f}\")\n",
    "\n",
    "    # Save checkpoint every 50 epochs\n",
    "    if (epoch + 1) % 50 == 0 or (epoch + 1) == CONFIG['epochs']:\n",
    "        ckpt_path = os.path.join(CONFIG['checkpoint_dir'], f\"{CONFIG['model_name']}_epoch_{epoch+1}.pt\")\n",
    "        torch.save({\n",
    "            'epoch': epoch + 1,\n",
    "            'model_state_dict': model.state_dict(),\n",
    "            'optimizer_state_dict': optimizer.state_dict(),\n",
    "            'scheduler_state_dict': scheduler.state_dict(),\n",
    "            'train_loss': train_loss,\n",
    "            'val_loss': val_loss,\n",
    "            'psnr': val_psnr,\n",
    "            'ssim': val_ssim,\n",
    "        }, ckpt_path)\n",
    "        print(f\"Saved checkpoint: {ckpt_path}\")"
   ]
  },
  {
   "cell_type": "code",
   "execution_count": null,
   "id": "4bc9a43a",
   "metadata": {},
   "outputs": [],
   "source": [
    "final_model_path = os.path.join(CONFIG['checkpoint_dir'], 'final_model.pt')\n",
    "torch.save({\n",
    "    'model_state_dict': model.state_dict(),\n",
    "    'optimizer_state_dict': optimizer.state_dict(),\n",
    "    'scheduler_state_dict': scheduler.state_dict(),\n",
    "    'epoch': CONFIG['epochs'],\n",
    "}, final_model_path)\n"
   ]
  },
  {
   "cell_type": "markdown",
   "id": "5350cf62",
   "metadata": {},
   "source": [
    "## Model Visualization\n",
    "We visualize one example of the reconstructed images."
   ]
  },
  {
   "cell_type": "code",
   "execution_count": null,
   "id": "f7c93d9a",
   "metadata": {},
   "outputs": [],
   "source": [
    "def show_example(model, loader):\n",
    "    model.eval()\n",
    "    x, y = next(iter(loader))\n",
    "    x = x.to(CONFIG['device'])\n",
    "    with torch.no_grad():\n",
    "        y_pred = model(x).cpu()\n",
    "\n",
    "    fig, axs = plt.subplots(1, 3, figsize=(12, 4))\n",
    "    axs[0].imshow(x[0, 0].cpu(), cmap='gray')\n",
    "    axs[0].set_title(\"Input\")\n",
    "    axs[1].imshow(y[0, 0], cmap='gray')\n",
    "    axs[1].set_title(\"Target\")\n",
    "    axs[2].imshow(y_pred[0, 0], cmap='gray')\n",
    "    axs[2].set_title(\"Prediction\")\n",
    "    plt.show()\n"
   ]
  }
 ],
 "metadata": {
  "kernelspec": {
   "display_name": "base",
   "language": "python",
   "name": "python3"
  },
  "language_info": {
   "codemirror_mode": {
    "name": "ipython",
    "version": 3
   },
   "file_extension": ".py",
   "mimetype": "text/x-python",
   "name": "python",
   "nbconvert_exporter": "python",
   "pygments_lexer": "ipython3",
   "version": "3.12.4"
  }
 },
 "nbformat": 4,
 "nbformat_minor": 5
}
